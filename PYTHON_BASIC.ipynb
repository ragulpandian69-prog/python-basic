{
  "nbformat": 4,
  "nbformat_minor": 0,
  "metadata": {
    "colab": {
      "provenance": []
    },
    "kernelspec": {
      "name": "python3",
      "display_name": "Python 3"
    },
    "language_info": {
      "name": "python"
    }
  },
  "cells": [
    {
      "cell_type": "markdown",
      "source": [
        "#PYTHON BASIC\n"
      ],
      "metadata": {
        "id": "HEnH1BN6MsFe"
      }
    },
    {
      "cell_type": "markdown",
      "source": [
        "1. What is Python, and why is it popular?\n",
        "  - Python is an easy-to-read, high-level programming language used for web development, data science, automation, AI, etc. It’s popular due to its simple syntax and large support libraries.\n",
        "\n",
        "\n",
        "2. What is an interpreter in Python?\n",
        "  - An interpreter reads and executes Python code line by line, helping developers test and run programs quickly.\n",
        "\n",
        "\n",
        "3. What are pre-defined keywords in Python?\n",
        "  - Keywords like if, for, while, def, etc., are reserved words that have special meaning in Python.\n",
        "\n",
        "\n",
        "4. Can keywords be used as variable names?\n",
        "   - No. Python will throw a syntax error if you use keywords as variable names.\n",
        "\n",
        "\n",
        "5. What is mutability in Python?\n",
        "  - Mutability refers to whether an object can be changed after it is created. Example: Lists are mutable, tuples are not.\n",
        "\n",
        "\n",
        "6. Why are lists mutable, but tuples are immutable?\n",
        "  - Lists allow changes (add, remove), but tuples are fixed to protect data from being changed accidentally.\n",
        "\n",
        "\n",
        "7. What is the difference between == and is operators in Python?\n",
        "\n",
        "  - ==,checks value equality\n",
        "\n",
        "  - is,checks memory location identity\n",
        "\n",
        "\n",
        "\n",
        "8. What are logical operators in Python?\n",
        "\n",
        "  - and – Both conditions must be true\n",
        "\n",
        "  - or – At least one condition must be true\n",
        "\n",
        "  - not – Reverses the result\n",
        "\n",
        "\n",
        "\n",
        "9. What is type casting in Python?\n",
        "  - Changing one data type to another, e.g., int(\"5\") converts string \"5\" into integer 5.\n",
        "\n",
        "\n",
        "10. What is the difference between implicit and explicit type casting?\n",
        "\n",
        "\n",
        "\n",
        "   - Implicit: Python does it automatically (e.g., int to float).\n",
        "\n",
        "   - Explicit: You do it manually using functions like int(), float().\n",
        "\n",
        "\n",
        "11. What is the purpose of conditional statements in Python?\n",
        "   - They are used to make decisions in programs using if, elif, and else.\n",
        "\n",
        "\n",
        "12. How does the elif statement work?\n",
        "  - It checks multiple conditions after an if. If if is False, elif is checked.\n",
        "\n",
        "\n",
        "13. What is the difference between for and while loops?\n",
        "\n",
        "\n",
        "\n",
        "   - for: Used when number of repetitions is known.\n",
        "\n",
        "   - while: Used when repeating until a condition becomes false.\n",
        "\n",
        "\n",
        "14. Describe a scenario where a while loop is more suitable than a for loop.\n",
        "- Repeatedly ask for a password until correct – since we don’t know how many tries, we use a while loop."
      ],
      "metadata": {
        "id": "QkrLyKRTNCLV"
      }
    },
    {
      "cell_type": "code",
      "execution_count": 5,
      "metadata": {
        "colab": {
          "base_uri": "https://localhost:8080/"
        },
        "id": "UGvM1032MPZa",
        "outputId": "3de86a3c-6d61-406e-e6c3-9ad15f803603"
      },
      "outputs": [
        {
          "output_type": "stream",
          "name": "stdout",
          "text": [
            "hello,world!\n"
          ]
        }
      ],
      "source": [
        "# 1. Write the python program to print \"hello,world!\"\n",
        "\n",
        "print(\"hello,world!\")\n",
        ""
      ]
    },
    {
      "cell_type": "code",
      "source": [
        "# 2. Write the python program that display your name and age.\n",
        "\n",
        "name = input(\"Enter your name: \")\n",
        "age = input(\"Enter your age: \")\n",
        "print(f\"My name is {name}, and I am {age} years old.\")"
      ],
      "metadata": {
        "colab": {
          "base_uri": "https://localhost:8080/"
        },
        "id": "leowIXl7Rje1",
        "outputId": "26ea6611-7a53-4e16-9949-56442effda86"
      },
      "execution_count": 4,
      "outputs": [
        {
          "output_type": "stream",
          "name": "stdout",
          "text": [
            "Enter your name: Ragul\n",
            "Enter your age: 21\n",
            "My name is Ragul, and I am 21 years old.\n"
          ]
        }
      ]
    },
    {
      "cell_type": "code",
      "source": [
        "# 3. Write a code to print all the pre-define keywords in python using the kewword library.\n",
        "\n",
        "import keyword\n",
        "print(keyword.kwlist)"
      ],
      "metadata": {
        "colab": {
          "base_uri": "https://localhost:8080/"
        },
        "id": "f0FIPRtTSqh6",
        "outputId": "e6f09185-e62e-4a7d-f7de-273c00159fec"
      },
      "execution_count": 6,
      "outputs": [
        {
          "output_type": "stream",
          "name": "stdout",
          "text": [
            "['False', 'None', 'True', 'and', 'as', 'assert', 'async', 'await', 'break', 'class', 'continue', 'def', 'del', 'elif', 'else', 'except', 'finally', 'for', 'from', 'global', 'if', 'import', 'in', 'is', 'lambda', 'nonlocal', 'not', 'or', 'pass', 'raise', 'return', 'try', 'while', 'with', 'yield']\n"
          ]
        }
      ]
    },
    {
      "cell_type": "code",
      "source": [
        "# 4.Write a program that checks if a given word is a python keyword.\n",
        "\n",
        "word = input(\"Enter a word: \")\n",
        "print(keyword.iskeyword(word))"
      ],
      "metadata": {
        "colab": {
          "base_uri": "https://localhost:8080/"
        },
        "id": "y-NmQ_bjToyy",
        "outputId": "565e2392-dd91-47e3-bb94-214426753732"
      },
      "execution_count": 10,
      "outputs": [
        {
          "output_type": "stream",
          "name": "stdout",
          "text": [
            "Enter a word: as\n",
            "True\n"
          ]
        }
      ]
    },
    {
      "cell_type": "code",
      "source": [
        "# 5. create a list and tuple in python and demonstrate how attempting to change an element works differently for each.\n",
        "\n",
        "my_list = [1, 2, 3]\n",
        "my_tuple = (1, 2, 3)\n",
        "my_list[0] = 100\n",
        "my_tuple[0] = 100"
      ],
      "metadata": {
        "colab": {
          "base_uri": "https://localhost:8080/",
          "height": 173
        },
        "id": "V4TYvja6UsVE",
        "outputId": "6cf90a5b-9aee-4043-e5c7-fa9565f9a3f6"
      },
      "execution_count": 13,
      "outputs": [
        {
          "output_type": "error",
          "ename": "TypeError",
          "evalue": "'tuple' object does not support item assignment",
          "traceback": [
            "\u001b[0;31m---------------------------------------------------------------------------\u001b[0m",
            "\u001b[0;31mTypeError\u001b[0m                                 Traceback (most recent call last)",
            "\u001b[0;32m/tmp/ipython-input-1439486321.py\u001b[0m in \u001b[0;36m<cell line: 0>\u001b[0;34m()\u001b[0m\n\u001b[1;32m      4\u001b[0m \u001b[0mmy_tuple\u001b[0m \u001b[0;34m=\u001b[0m \u001b[0;34m(\u001b[0m\u001b[0;36m1\u001b[0m\u001b[0;34m,\u001b[0m \u001b[0;36m2\u001b[0m\u001b[0;34m,\u001b[0m \u001b[0;36m3\u001b[0m\u001b[0;34m)\u001b[0m\u001b[0;34m\u001b[0m\u001b[0;34m\u001b[0m\u001b[0m\n\u001b[1;32m      5\u001b[0m \u001b[0mmy_list\u001b[0m\u001b[0;34m[\u001b[0m\u001b[0;36m0\u001b[0m\u001b[0;34m]\u001b[0m \u001b[0;34m=\u001b[0m \u001b[0;36m100\u001b[0m\u001b[0;34m\u001b[0m\u001b[0;34m\u001b[0m\u001b[0m\n\u001b[0;32m----> 6\u001b[0;31m \u001b[0mmy_tuple\u001b[0m\u001b[0;34m[\u001b[0m\u001b[0;36m0\u001b[0m\u001b[0;34m]\u001b[0m \u001b[0;34m=\u001b[0m \u001b[0;36m100\u001b[0m\u001b[0;34m\u001b[0m\u001b[0;34m\u001b[0m\u001b[0m\n\u001b[0m",
            "\u001b[0;31mTypeError\u001b[0m: 'tuple' object does not support item assignment"
          ]
        }
      ]
    },
    {
      "cell_type": "code",
      "source": [
        "# 6. Write a function to demonstrate the behavior of mutuable and immutable arguments.\n",
        "\n",
        "def modify_list(lst):\n",
        "    lst.append(5)\n",
        "def modify_number(num):\n",
        "    num += 1\n",
        "\n",
        "l = [1, 2]\n",
        "n = 10\n",
        "modify_list(l)\n",
        "modify_number(n)\n",
        "print(l)\n",
        "print(n)"
      ],
      "metadata": {
        "colab": {
          "base_uri": "https://localhost:8080/"
        },
        "id": "vebGSZ6ThoHj",
        "outputId": "5b70d17c-1031-4087-85f4-0dfff03a4327"
      },
      "execution_count": 14,
      "outputs": [
        {
          "output_type": "stream",
          "name": "stdout",
          "text": [
            "[1, 2, 5]\n",
            "10\n"
          ]
        }
      ]
    },
    {
      "cell_type": "code",
      "source": [
        "# 7. write a program that perfomance basic asthmatic operations on two user-input number.\n",
        "\n",
        "a = int(input(\"Enter first number: \"))\n",
        "b = int(input(\"Enter second number: \"))\n",
        "print(\"Add:\", a + b)\n",
        "print(\"Subtract:\", a - b)\n",
        "print(\"Multiply:\", a * b)\n",
        "print(\"Divide:\", a / b)"
      ],
      "metadata": {
        "colab": {
          "base_uri": "https://localhost:8080/"
        },
        "id": "gGZJIwwKnJ3r",
        "outputId": "677b8f12-65a8-4db9-8c15-0ef6a4a85d7d"
      },
      "execution_count": 16,
      "outputs": [
        {
          "output_type": "stream",
          "name": "stdout",
          "text": [
            "Enter first number: 5\n",
            "Enter second number: 5\n",
            "Add: 10\n",
            "Subtract: 0\n",
            "Multiply: 25\n",
            "Divide: 1.0\n"
          ]
        }
      ]
    },
    {
      "cell_type": "code",
      "source": [
        "# 8. Write a program to demonstrate the use of logical operator.\n",
        "\n",
        "\n",
        "x = int(input(\"Enter a number: \"))\n",
        "print(x > 5 and x < 10)\n",
        "print(x < 5 or x > 10)\n",
        "print(not(x > 5))"
      ],
      "metadata": {
        "colab": {
          "base_uri": "https://localhost:8080/"
        },
        "id": "lt3uFl_euESd",
        "outputId": "07704daf-f3a3-444d-9eaf-dd1a95cf08b0"
      },
      "execution_count": 17,
      "outputs": [
        {
          "output_type": "stream",
          "name": "stdout",
          "text": [
            "Enter a number: 6\n",
            "True\n",
            "False\n",
            "False\n"
          ]
        }
      ]
    },
    {
      "cell_type": "code",
      "source": [
        "# 9. Write a python program to convert user input from string to integer, flot and boolean types.\n",
        "\n",
        "\n",
        "s = input(\"Enter a number: \")\n",
        "print(int(s), float(s), bool(int(s)))"
      ],
      "metadata": {
        "colab": {
          "base_uri": "https://localhost:8080/"
        },
        "id": "Hh3puEcMumwt",
        "outputId": "15d9f57f-7309-4221-a7ab-99427ae9771d"
      },
      "execution_count": 18,
      "outputs": [
        {
          "output_type": "stream",
          "name": "stdout",
          "text": [
            "Enter a number: 7\n",
            "7 7.0 True\n"
          ]
        }
      ]
    },
    {
      "cell_type": "code",
      "source": [
        "# 10.  Write code to demonstrate type casting with list elements.\n",
        "\n",
        "data = [\"1\", \"0\", \"3\"]\n",
        "int_data = [int(i) for i in data]\n",
        "float_data = [float(i) for i in data]\n",
        "bool_data = [bool(int(i)) for i in data]\n",
        "print(int_data, float_data, bool_data)"
      ],
      "metadata": {
        "colab": {
          "base_uri": "https://localhost:8080/"
        },
        "id": "sJaST5qY32Nn",
        "outputId": "f4d55878-7736-4608-effb-eeea4d1be20f"
      },
      "execution_count": 19,
      "outputs": [
        {
          "output_type": "stream",
          "name": "stdout",
          "text": [
            "[1, 0, 3] [1.0, 0.0, 3.0] [True, False, True]\n"
          ]
        }
      ]
    },
    {
      "cell_type": "code",
      "source": [
        "# 11. Write a program that checks if a number is positive, negative,or zero.\n",
        "\n",
        "n = int(input(\"Enter a number: \"))\n",
        "if n > 0:\n",
        "    print(\"Positive\")\n",
        "elif n < 0:\n",
        "    print(\"Negative\")\n",
        "else:\n",
        "    print(\"Zero\")"
      ],
      "metadata": {
        "colab": {
          "base_uri": "https://localhost:8080/"
        },
        "id": "GVfdgmYT5Xn_",
        "outputId": "11a1e957-fda5-4737-c3be-f85003193a6c"
      },
      "execution_count": 20,
      "outputs": [
        {
          "output_type": "stream",
          "name": "stdout",
          "text": [
            "Enter a number: 7\n",
            "Positive\n"
          ]
        }
      ]
    },
    {
      "cell_type": "code",
      "source": [
        "# 12. Write a for loop to print a number from 1 to 10.\n",
        "\n",
        "for i in range(1, 11):\n",
        "    print(i)"
      ],
      "metadata": {
        "colab": {
          "base_uri": "https://localhost:8080/"
        },
        "id": "rrW1KpG76FBe",
        "outputId": "8d31f746-639d-4402-e4be-3a918670660e"
      },
      "execution_count": 21,
      "outputs": [
        {
          "output_type": "stream",
          "name": "stdout",
          "text": [
            "1\n",
            "2\n",
            "3\n",
            "4\n",
            "5\n",
            "6\n",
            "7\n",
            "8\n",
            "9\n",
            "10\n"
          ]
        }
      ]
    },
    {
      "cell_type": "code",
      "source": [
        "# 13. Write a python program to find the sum of all even number between 1 to 50.\n",
        "\n",
        "sum_of_evens = 0\n",
        "for number in range(1, 51):\n",
        "    if number % 2 == 0:\n",
        "        sum_of_evens += number\n",
        "\n",
        "print(f\"The sum of all even numbers between 1 to 50 is: {sum_of_evens}\")"
      ],
      "metadata": {
        "colab": {
          "base_uri": "https://localhost:8080/"
        },
        "id": "4zFPtq1w6Zkn",
        "outputId": "4a912024-0421-47f1-a045-5227e2b09b80"
      },
      "execution_count": 24,
      "outputs": [
        {
          "output_type": "stream",
          "name": "stdout",
          "text": [
            "The sum of all even numbers between 1 to 50 is: 650\n"
          ]
        }
      ]
    },
    {
      "cell_type": "code",
      "source": [
        "# 14. Write a program to reverse a string using a while loop.\n",
        "\n",
        "s = input(\"Enter a string: \")\n",
        "reversed_str = \"\"\n",
        "i = len(s) - 1\n",
        "while i >= 0:\n",
        "    reversed_str += s[i]\n",
        "    i -= 1\n",
        "print(reversed_str)"
      ],
      "metadata": {
        "colab": {
          "base_uri": "https://localhost:8080/"
        },
        "id": "8GaCqiuE9fI6",
        "outputId": "2f01337e-6b35-487a-e3d8-c842a1b6f9e8"
      },
      "execution_count": 25,
      "outputs": [
        {
          "output_type": "stream",
          "name": "stdout",
          "text": [
            "Enter a string: Ragul\n",
            "lugaR\n"
          ]
        }
      ]
    },
    {
      "cell_type": "code",
      "source": [
        "# 15. Write a python program to calculate the factorial of a number provided by the user using a while loop.\n",
        "\n",
        "num = int(input(\"Enter a number: \"))\n",
        "fact = 1\n",
        "while num > 0:\n",
        "    fact *= num\n",
        "    num -= 1\n",
        "print(\"Factorial is:\", fact)"
      ],
      "metadata": {
        "colab": {
          "base_uri": "https://localhost:8080/"
        },
        "id": "N18fZ49y-Ryy",
        "outputId": "cd701708-ab8b-478e-be48-645448356390"
      },
      "execution_count": 26,
      "outputs": [
        {
          "output_type": "stream",
          "name": "stdout",
          "text": [
            "Enter a number: 7\n",
            "Factorial is: 5040\n"
          ]
        }
      ]
    }
  ]
}